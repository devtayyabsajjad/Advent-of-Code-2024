{
 "cells": [
  {
   "cell_type": "markdown",
   "metadata": {
    "id": "t3KZ8AepClar"
   },
   "source": [
    "#  Advent of Code - Day 4: Part One & Two\n",
    "\n",
    "## 🧩 **Part One - The XMAS Search**\n",
    "\n",
    "The task was to find **all occurrences** of the word `XMAS` in a 2D word search grid. Here's what made it exciting:\n",
    "- Words could appear **horizontally**, **vertically**, **diagonally**, or **reversed**.\n",
    "- **Overlapping occurrences** were valid.\n",
    "\n",
    "### 💡 **Key Highlights**\n",
    "1. Parsed the input grid into a manageable 2D structure.\n",
    "2. Used a custom function to **search in 8 directions** for every cell.\n",
    "3. Efficiently tracked and counted **unique occurrences** of `XMAS`.\n"
   ]
  },
  {
   "cell_type": "code",
   "execution_count": 3,
   "metadata": {
    "id": "KIXsSQRhClMd"
   },
   "outputs": [],
   "source": [
    "def count_xmas_occurrences(grid, word=\"XMAS\"):\n",
    "    rows, cols = len(grid), len(grid[0])\n",
    "    word_len = len(word)\n",
    "    directions = [\n",
    "        (0, 1),   # Right\n",
    "        (0, -1),  # Left\n",
    "        (1, 0),   # Down\n",
    "        (-1, 0),  # Up\n",
    "        (1, 1),   # Down-Right\n",
    "        (-1, -1), # Up-Left\n",
    "        (1, -1),  # Down-Left\n",
    "        (-1, 1)   # Up-Right\n",
    "    ]\n",
    "    count = 0\n",
    "\n",
    "    # Function to check if a word exists in a specific direction\n",
    "    def search_direction(r, c, dr, dc):\n",
    "        for i in range(word_len):\n",
    "            nr, nc = r + i * dr, c + i * dc\n",
    "            if nr < 0 or nr >= rows or nc < 0 or nc >= cols or grid[nr][nc] != word[i]:\n",
    "                return False\n",
    "        return True\n",
    "\n",
    "    # Traverse each cell in the grid\n",
    "    for r in range(rows):\n",
    "        for c in range(cols):\n",
    "            # Check all directions from the current cell\n",
    "            for dr, dc in directions:\n",
    "                if search_direction(r, c, dr, dc):\n",
    "                    count += 1\n",
    "\n",
    "    return count"
   ]
  },
  {
   "cell_type": "markdown",
   "metadata": {
    "id": "VIMJcxv2Oo4b"
   },
   "source": [
    "### input file link"
   ]
  },
  {
   "cell_type": "code",
   "execution_count": 4,
   "metadata": {
    "id": "yUl82tR6Hbvm"
   },
   "outputs": [
    {
     "name": "stdout",
     "output_type": "stream",
     "text": [
      "2536\n"
     ]
    }
   ],
   "source": [
    "# Read the input grid from a file\n",
    "with open('input.txt', 'r') as file:\n",
    "    grid = [line.strip() for line in file.readlines()]\n",
    "\n",
    "# Find and print the number of occurrences of \"XMAS\"\n",
    "result = count_xmas_occurrences(grid)\n",
    "print(result)"
   ]
  },
  {
   "cell_type": "markdown",
   "metadata": {
    "id": "7-bwx4szLJD7"
   },
   "source": [
    "## 🧩 **Part Two - The X-MAS Puzzle**\n",
    "\n",
    "The twist? We had to find an **X-MAS pattern**!\n",
    "An **X-MAS** consists of two `MAS` arranged in an X-shape, like this:\n",
    "\n",
    "```plaintext\n",
    "M.S  \n",
    ".A.  \n",
    "M.S  "
   ]
  },
  {
   "cell_type": "code",
   "execution_count": 5,
   "metadata": {
    "id": "v0EBXdwJDinf"
   },
   "outputs": [],
   "source": [
    "def count_x_mas_patterns(grid):\n",
    "    rows, cols = len(grid), len(grid[0])\n",
    "    count = 0\n",
    "\n",
    "    # Helper function to check if a diagonal matches MAS\n",
    "    def check_diagonal(r, c, dr1, dc1, dr2, dc2):\n",
    "        try:\n",
    "            # Check one MAS diagonal (M-S) and the reverse (S-M)\n",
    "            if (grid[r + dr1][c + dc1] == 'M' and\n",
    "                grid[r][c] == 'A' and\n",
    "                grid[r + dr2][c + dc2] == 'S'):\n",
    "                return True\n",
    "            if (grid[r + dr1][c + dc1] == 'S' and\n",
    "                grid[r][c] == 'A' and\n",
    "                grid[r + dr2][c + dc2] == 'M'):\n",
    "                return True\n",
    "        except IndexError:\n",
    "            pass\n",
    "        return False\n",
    "\n",
    "    # Traverse the grid to find the center of the X\n",
    "    for r in range(1, rows - 1):\n",
    "        for c in range(1, cols - 1):\n",
    "            # Check for the center 'A'\n",
    "            if grid[r][c] == 'A':\n",
    "                # Check for the top-left and bottom-right MAS\n",
    "                if (check_diagonal(r, c, -1, -1, 1, 1) and\n",
    "                    check_diagonal(r, c, -1, 1, 1, -1)):\n",
    "                    count += 1\n",
    "\n",
    "    return count"
   ]
  },
  {
   "cell_type": "markdown",
   "metadata": {
    "id": "ZFR1yU32OyJS"
   },
   "source": [
    "### input file link"
   ]
  },
  {
   "cell_type": "code",
   "execution_count": 6,
   "metadata": {
    "id": "Ceg9ljV_LEaj"
   },
   "outputs": [
    {
     "name": "stdout",
     "output_type": "stream",
     "text": [
      "1875\n"
     ]
    }
   ],
   "source": [
    "# Read the input grid from a file\n",
    "with open('input.txt', 'r') as file:\n",
    "    grid = [line.strip() for line in file.readlines()]\n",
    "\n",
    "# Find and print the number of X-MAS patterns\n",
    "result = count_x_mas_patterns(grid)\n",
    "print(result)"
   ]
  },
  {
   "cell_type": "code",
   "execution_count": null,
   "metadata": {},
   "outputs": [],
   "source": []
  }
 ],
 "metadata": {
  "colab": {
   "provenance": []
  },
  "kernelspec": {
   "display_name": "Python 3",
   "name": "python3"
  },
  "language_info": {
   "codemirror_mode": {
    "name": "ipython",
    "version": 3
   },
   "file_extension": ".py",
   "mimetype": "text/x-python",
   "name": "python",
   "nbconvert_exporter": "python",
   "pygments_lexer": "ipython3",
   "version": "3.12.0"
  }
 },
 "nbformat": 4,
 "nbformat_minor": 0
}
