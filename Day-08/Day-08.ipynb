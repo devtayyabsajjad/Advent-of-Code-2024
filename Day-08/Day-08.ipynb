{
  "cells": [
    {
      "cell_type": "markdown",
      "source": [
        "# 🐇 Easter Bunny Antenna Calibration Challenge\n",
        "\n",
        "## 📜 Problem Statement\n",
        "\n",
        "Deep within a top-secret Easter Bunny installation, a network of antennas emits signals that influence consumer behavior. Each antenna is identified by a unique frequency (a lowercase/uppercase letter or digit). Your mission is to calculate how many unique locations within the map contain antinodes—signal impact points.\n",
        "\n",
        "### Antinode Rules:\n",
        "An antinode occurs between two antennas of the same frequency if:\n",
        "- One antenna is twice as far from the antinode as the other.\n",
        "- The antennas must be perfectly aligned in either row, column, or diagonal.\n",
        "- Antennas with different frequencies or offsets do not contribute to the calculation.\n",
        "\n",
        "## 🚀 Solution: Problem One\n",
        "\n",
        "### Approach\n",
        "1. Parse the input map to locate all antenna positions grouped by their frequency.\n",
        "2. Check every pair of antennas for alignment:\n",
        "   - Row alignment.\n",
        "   - Column alignment.\n",
        "   - Diagonal alignment.\n",
        "3. For each aligned pair, compute potential antinode positions based on the distance rule.\n",
        "4. Track all valid antinodes in a set to ensure uniqueness.\n",
        "5. Output the total number of unique antinode locations.\n",
        "\n",
        "### Code Stages\n",
        "\n",
        "#### Input Parsing:\n",
        "- Read the map from `data.txt` and record positions of antennas by frequency.\n",
        "\n",
        "#### Pair Analysis:\n",
        "- Iterate over pairs of antennas of the same frequency.\n",
        "- Calculate possible antinodes based on alignment and distance rules.\n",
        "\n",
        "#### Antinode Deduplication:\n",
        "- Use a set to store unique antinode locations.\n",
        "\n",
        "#### Result Output:\n",
        "- Count and display the total unique antinode positions.\n",
        "\n",
        "---"
      ],
      "metadata": {
        "id": "D8TegLBCyKaa"
      }
    },
    {
      "cell_type": "code",
      "source": [
        "def find_unique_antinodes_from_file(file_path):\n",
        "    from collections import defaultdict\n",
        "\n",
        "    # Step 1: Read the input file and parse the grid\n",
        "    with open(file_path, 'r') as file:\n",
        "        grid = [line.strip() for line in file.readlines()]\n",
        "\n",
        "    # Parse grid to collect antenna positions by frequency\n",
        "    antenna_positions = defaultdict(list)\n",
        "    rows = len(grid)\n",
        "    cols = len(grid[0])\n",
        "\n",
        "    for r in range(rows):\n",
        "        for c in range(cols):\n",
        "            char = grid[r][c]\n",
        "            if char.isalnum():  # Antennas are letters or digits\n",
        "                antenna_positions[char].append((r, c))\n",
        "\n",
        "    # Step 2: Find antinodes for each frequency\n",
        "    unique_antinodes = set()\n",
        "\n",
        "    for freq, positions in antenna_positions.items():\n",
        "        n = len(positions)\n",
        "        if n < 2:\n",
        "            continue  # No antinodes possible with fewer than 2 antennas\n",
        "\n",
        "        for i in range(n):\n",
        "            for j in range(i + 1, n):\n",
        "                r1, c1 = positions[i]\n",
        "                r2, c2 = positions[j]\n",
        "\n",
        "                # Compute differences\n",
        "                dr = r2 - r1\n",
        "                dc = c2 - c1\n",
        "\n",
        "                # First antinode (closer to r1, c1)\n",
        "                r_antin1, c_antin1 = r1 - dr, c1 - dc\n",
        "                # Second antinode (further from r2, c2)\n",
        "                r_antin2, c_antin2 = r2 + dr, c2 + dc\n",
        "\n",
        "                # Add valid antinodes within bounds\n",
        "                if 0 <= r_antin1 < rows and 0 <= c_antin1 < cols:\n",
        "                    unique_antinodes.add((r_antin1, c_antin1))\n",
        "                if 0 <= r_antin2 < rows and 0 <= c_antin2 < cols:\n",
        "                    unique_antinodes.add((r_antin2, c_antin2))\n",
        "\n",
        "    # Step 3: Return the count of unique antinodes\n",
        "    return len(unique_antinodes)\n",
        "\n",
        "# Path to the input file\n",
        "file_path = 'data.txt'\n",
        "\n",
        "# Call the function and print the result\n",
        "unique_count = find_unique_antinodes_from_file(file_path)\n",
        "print(f\"Number of unique antinode locations: {unique_count}\")"
      ],
      "metadata": {
        "id": "Eqxe-S1tnKu9",
        "outputId": "210e0a83-6776-4ad5-8ca2-f32709df58bb",
        "colab": {
          "base_uri": "https://localhost:8080/"
        }
      },
      "execution_count": 5,
      "outputs": [
        {
          "output_type": "stream",
          "name": "stdout",
          "text": [
            "Number of unique antinode locations: 265\n"
          ]
        }
      ]
    },
    {
      "cell_type": "markdown",
      "source": [
        "## 🔗 Part Two: Resonant Harmonics Update\n",
        "\n",
        "### Updated Problem\n",
        "Antinodes occur at any position aligned with at least two antennas of the same frequency, regardless of distance. Additionally, antennas themselves contribute as antinodes if aligned with others of the same frequency.\n",
        "\n",
        "### Approach\n",
        "\n",
        "1. **Extend the Pair Analysis**:\n",
        "   - Include all positions in a straight line between two antennas as antinodes.\n",
        "   - Update the Deduplication Process:\n",
        "     - Add antenna positions to the set of antinodes if aligned with others.\n",
        "\n",
        "2. **Count all unique antinodes**, including those overlapping with antennas.\n",
        "\n",
        "### Code Stages\n",
        "\n",
        "#### Enhanced Pair Analysis:\n",
        "- For each pair of aligned antennas:\n",
        "  - Add all intermediate positions as antinodes.\n",
        "  - Include antenna positions themselves.\n",
        "\n",
        "#### Result Deduplication:\n",
        "- Use a set to track unique positions, ensuring no duplicates.\n",
        "\n",
        "#### Final Count:\n",
        "- Output the total unique antinode positions.\n",
        "\n",
        "---\n"
      ],
      "metadata": {
        "id": "IndrOBTfyR05"
      }
    },
    {
      "cell_type": "code",
      "source": [
        "def find_all_antinodes(file_path):\n",
        "    from collections import defaultdict\n",
        "\n",
        "    # Step 1: Read the input file and parse the grid\n",
        "    with open(file_path, 'r') as file:\n",
        "        grid = [line.strip() for line in file.readlines()]\n",
        "\n",
        "    # Parse grid to collect antenna positions by frequency\n",
        "    antenna_positions = defaultdict(list)\n",
        "    rows = len(grid)\n",
        "    cols = len(grid[0])\n",
        "\n",
        "    for r in range(rows):\n",
        "        for c in range(cols):\n",
        "            char = grid[r][c]\n",
        "            if char.isalnum():  # Antennas are letters or digits\n",
        "                antenna_positions[char].append((r, c))\n",
        "\n",
        "    # Step 2: Find all antinodes for each frequency\n",
        "    unique_antinodes = set()\n",
        "\n",
        "    for freq, positions in antenna_positions.items():\n",
        "        n = len(positions)\n",
        "        if n < 2:\n",
        "            continue  # No antinodes possible with fewer than 2 antennas\n",
        "\n",
        "        # Add all antenna positions as antinodes\n",
        "        unique_antinodes.update(positions)\n",
        "\n",
        "        for i in range(n):\n",
        "            for j in range(i + 1, n):\n",
        "                r1, c1 = positions[i]\n",
        "                r2, c2 = positions[j]\n",
        "\n",
        "                # Compute direction vector\n",
        "                dr = r2 - r1\n",
        "                dc = c2 - c1\n",
        "\n",
        "                # Generate all points along the line\n",
        "                for k in range(-max(rows, cols), max(rows, cols) + 1):\n",
        "                    r_antin = r1 + k * dr\n",
        "                    c_antin = c1 + k * dc\n",
        "\n",
        "                    # Add valid antinodes within bounds\n",
        "                    if 0 <= r_antin < rows and 0 <= c_antin < cols:\n",
        "                        unique_antinodes.add((r_antin, c_antin))\n",
        "\n",
        "    # Step 3: Return the count of unique antinodes\n",
        "    return len(unique_antinodes)\n",
        "\n",
        "# Path to the input file\n",
        "file_path = 'data.txt'\n",
        "\n",
        "# Call the function and print the result\n",
        "unique_count = find_all_antinodes(file_path)\n",
        "print(f\"Number of unique antinode locations: {unique_count}\")"
      ],
      "metadata": {
        "id": "t4vd2D7tqRl-",
        "outputId": "29124015-39f6-4b48-dbb9-d3a1df598db1",
        "colab": {
          "base_uri": "https://localhost:8080/"
        }
      },
      "execution_count": 7,
      "outputs": [
        {
          "output_type": "stream",
          "name": "stdout",
          "text": [
            "Number of unique antinode locations: 962\n"
          ]
        }
      ]
    },
    {
      "cell_type": "markdown",
      "source": [
        "\n",
        "## 🛠️ Code Explanation\n",
        "\n",
        "### General Approach:\n",
        "- Both parts leverage set-based deduplication to ensure unique antinodes are counted.\n",
        "- Iterative pair analysis ensures alignment rules are followed for all antenna combinations.\n",
        "\n",
        "### Optimization:\n",
        "- Efficient input parsing and pair iteration to minimize redundant calculations.\n",
        "- Focused calculations only for antennas of the same frequency.\n"
      ],
      "metadata": {
        "id": "r2pTy7uoyVJA"
      }
    }
  ],
  "metadata": {
    "colab": {
      "name": "Welcome to Colaboratory",
      "provenance": []
    },
    "kernelspec": {
      "display_name": "Python 3",
      "name": "python3"
    }
  },
  "nbformat": 4,
  "nbformat_minor": 0
}
